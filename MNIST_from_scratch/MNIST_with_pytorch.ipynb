{
 "cells": [
  {
   "cell_type": "markdown",
   "metadata": {
    "colab_type": "text",
    "id": "WOyngQ9zfIg1"
   },
   "source": [
    "# MNIST NN classifier with pytorch\n",
    "\n",
    "## 1. Check cuda"
   ]
  },
  {
   "cell_type": "code",
   "execution_count": 0,
   "metadata": {
    "ExecuteTime": {
     "end_time": "2019-07-19T18:20:30.361895Z",
     "start_time": "2019-07-19T18:20:29.462199Z"
    },
    "colab": {},
    "colab_type": "code",
    "id": "-5wTI9qffIg4"
   },
   "outputs": [],
   "source": [
    "import numpy as np\n",
    "import torch\n",
    "import torch.nn as nn\n",
    "import torchvision.transforms as transforms\n",
    "import torchvision.datasets as dsets\n",
    "from torch.autograd import Variable"
   ]
  },
  {
   "cell_type": "code",
   "execution_count": 2,
   "metadata": {
    "colab": {
     "base_uri": "https://localhost:8080/",
     "height": 34
    },
    "colab_type": "code",
    "executionInfo": {
     "elapsed": 871,
     "status": "ok",
     "timestamp": 1563576208161,
     "user": {
      "displayName": "Eric Xu",
      "photoUrl": "",
      "userId": "12351854993006891697"
     },
     "user_tz": 420
    },
    "id": "f6xzvOO_qJHN",
    "outputId": "6e68ecb2-b8cb-45e9-be74-c5263ce46286"
   },
   "outputs": [
    {
     "name": "stdout",
     "output_type": "stream",
     "text": [
      "Run in CPU\n"
     ]
    }
   ],
   "source": [
    "cuda_available = torch.cuda.is_available()\n",
    "if cuda_available:\n",
    "    print('Run in GPU')\n",
    "else:\n",
    "    print('Run in CPU')\n"
   ]
  },
  {
   "cell_type": "markdown",
   "metadata": {
    "colab_type": "text",
    "id": "Mj8I_JjdqKS8"
   },
   "source": [
    "# 1.Download data"
   ]
  },
  {
   "cell_type": "code",
   "execution_count": 0,
   "metadata": {
    "ExecuteTime": {
     "end_time": "2019-07-19T18:20:30.503558Z",
     "start_time": "2019-07-19T18:20:30.365205Z"
    },
    "colab": {},
    "colab_type": "code",
    "id": "P7esbiVXfIg-"
   },
   "outputs": [],
   "source": [
    "\n",
    "train_data = dsets.MNIST(root='./data',\n",
    "                         train=True,\n",
    "                         download=True,\n",
    "                         transform=transforms.ToTensor()\n",
    "                        )\n",
    "test_data = dsets.MNIST(root='./data',\n",
    "                        train=False,\n",
    "                        transform=transforms.ToTensor()\n",
    "                       )"
   ]
  },
  {
   "cell_type": "markdown",
   "metadata": {
    "colab_type": "text",
    "id": "wwlRHQw3fIhC"
   },
   "source": [
    "## 2. Make it iterable"
   ]
  },
  {
   "cell_type": "code",
   "execution_count": 4,
   "metadata": {
    "ExecuteTime": {
     "end_time": "2019-07-19T18:20:30.516573Z",
     "start_time": "2019-07-19T18:20:30.508852Z"
    },
    "colab": {
     "base_uri": "https://localhost:8080/",
     "height": 170
    },
    "colab_type": "code",
    "executionInfo": {
     "elapsed": 844,
     "status": "ok",
     "timestamp": 1563576208169,
     "user": {
      "displayName": "Eric Xu",
      "photoUrl": "",
      "userId": "12351854993006891697"
     },
     "user_tz": 420
    },
    "id": "XmA32csKfIhD",
    "outputId": "479e5844-7bb4-43d2-b118-b7df946e6b40"
   },
   "outputs": [
    {
     "name": "stdout",
     "output_type": "stream",
     "text": [
      "Dataset MNIST\n",
      "    Number of datapoints: 60000\n",
      "    Root location: ./data\n",
      "    Split: Train\n",
      "Dataset MNIST\n",
      "    Number of datapoints: 10000\n",
      "    Root location: ./data\n",
      "    Split: Test\n",
      "Batches in one epoch : 600\n"
     ]
    }
   ],
   "source": [
    "print(train_data)\n",
    "print(test_data)\n",
    "\n",
    "batch_size = 100\n",
    "n_iter = 3000\n",
    "n_epoch = int(n_iter / (len(train_data) / batch_size))\n",
    "\n",
    "train_loader = torch.utils.data.DataLoader(dataset=train_data,\n",
    "                                      batch_size=batch_size,\n",
    "                                      shuffle=True,\n",
    "                                      drop_last=True\n",
    "                                     )\n",
    "test_loader = torch.utils.data.DataLoader(dataset=test_data,\n",
    "                                      batch_size=batch_size,\n",
    "                                      shuffle=False,\n",
    "                                      drop_last=True\n",
    "                                     )\n",
    "print('Batches in one epoch : ' + str(len(train_loader)))"
   ]
  },
  {
   "cell_type": "markdown",
   "metadata": {
    "colab_type": "text",
    "id": "vieOk5Z0fIhN"
   },
   "source": [
    "## 3.Build the model\n",
    "Here I use a 2 hidden layer shallow model.  \n",
    "Nodes in every layer can be adjusted as hyper-parameter later.  \n",
    "\n",
    "<img src='img/Net.jpeg' width=500>"
   ]
  },
  {
   "cell_type": "code",
   "execution_count": 0,
   "metadata": {
    "ExecuteTime": {
     "end_time": "2019-07-19T18:20:30.536268Z",
     "start_time": "2019-07-19T18:20:30.521564Z"
    },
    "colab": {},
    "colab_type": "code",
    "id": "g40L5dxCfIhQ"
   },
   "outputs": [],
   "source": [
    "# TODO:: refactor into layer function to call\n",
    "class NeuralNet(nn.Module):\n",
    "    def __init__(self, in_dim, hid_dim_1, hid_dim_2, out_dim):\n",
    "        super(NeuralNet, self).__init__()\n",
    "        \n",
    "        # Layer1\n",
    "        self.fc1 = nn.Linear(in_features=in_dim, out_features=hid_dim_1, bias=True)\n",
    "        self.relu1 = nn.ReLU()\n",
    "        \n",
    "        # Layer2\n",
    "        self.fc2 = nn.Linear(in_features=hid_dim_1, out_features=hid_dim_2, bias=True)\n",
    "        self.relu2 = nn.ReLU()\n",
    "        \n",
    "        # Layer3 out\n",
    "        self.fc3 = nn.Linear(in_features=hid_dim_2, out_features=out_dim, bias=True)\n",
    "    \n",
    "    def forward(self, x):\n",
    "        out = self.fc1(x)\n",
    "        out = self.relu1(out)\n",
    "        \n",
    "        out = self.fc2(out)\n",
    "        out = self.relu2(out)\n",
    "        \n",
    "        out = self.fc3(out)\n",
    "        return out\n",
    "    "
   ]
  },
  {
   "cell_type": "markdown",
   "metadata": {
    "colab_type": "text",
    "id": "-c6yVlymfIhU"
   },
   "source": [
    "## 4. instantiate model"
   ]
  },
  {
   "cell_type": "code",
   "execution_count": 0,
   "metadata": {
    "ExecuteTime": {
     "end_time": "2019-07-19T18:20:30.569453Z",
     "start_time": "2019-07-19T18:20:30.544264Z"
    },
    "colab": {},
    "colab_type": "code",
    "id": "BtR8O58kfIhV"
   },
   "outputs": [],
   "source": [
    "in_dim = 28*28\n",
    "out_dim = 10\n",
    "hid_dim_1 = 500\n",
    "hid_dim_2 = 100\n",
    "\n",
    "model = NeuralNet(in_dim=in_dim, hid_dim_1=hid_dim_1, hid_dim_2=hid_dim_2, out_dim=out_dim)\n",
    "\n",
    "if cuda_available:\n",
    "    model.cuda()\n",
    "    print('model in cuda')\n",
    "# loss function\n",
    "criterion = nn.CrossEntropyLoss()\n",
    "\n",
    "# optimizer\n",
    "momentum = 0.4\n",
    "lr = 0.1\n",
    "optimizer = torch.optim.SGD(model.parameters(), lr=lr, momentum=momentum)\n"
   ]
  },
  {
   "cell_type": "markdown",
   "metadata": {
    "colab_type": "text",
    "id": "P4Q5RBEjfIhc"
   },
   "source": [
    "## 5.Train"
   ]
  },
  {
   "cell_type": "code",
   "execution_count": 7,
   "metadata": {
    "ExecuteTime": {
     "end_time": "2019-07-19T18:23:49.170211Z",
     "start_time": "2019-07-19T18:20:30.575444Z"
    },
    "colab": {
     "base_uri": "https://localhost:8080/",
     "height": 1000
    },
    "colab_type": "code",
    "executionInfo": {
     "elapsed": 108290,
     "status": "ok",
     "timestamp": 1563576315671,
     "user": {
      "displayName": "Eric Xu",
      "photoUrl": "",
      "userId": "12351854993006891697"
     },
     "user_tz": 420
    },
    "id": "1kphOGlKfIhd",
    "outputId": "2814f4ba-5844-4d5d-9cdd-c56d7e4a3d39"
   },
   "outputs": [
    {
     "name": "stdout",
     "output_type": "stream",
     "text": [
      "Iteration: 50. Loss: 1.0482827425003052. Accuracy: 67\n",
      "Iteration: 100. Loss: 0.6515190601348877. Accuracy: 82\n",
      "Iteration: 150. Loss: 0.5181882381439209. Accuracy: 87\n",
      "Iteration: 200. Loss: 0.34922507405281067. Accuracy: 88\n",
      "Iteration: 250. Loss: 0.3440299928188324. Accuracy: 90\n",
      "Iteration: 300. Loss: 0.34638649225234985. Accuracy: 90\n",
      "Iteration: 350. Loss: 0.3191926181316376. Accuracy: 91\n",
      "Iteration: 400. Loss: 0.2168610394001007. Accuracy: 92\n",
      "Iteration: 450. Loss: 0.33199647068977356. Accuracy: 92\n",
      "Iteration: 500. Loss: 0.31492283940315247. Accuracy: 92\n",
      "Iteration: 550. Loss: 0.3508247137069702. Accuracy: 92\n",
      "Iteration: 600. Loss: 0.21341241896152496. Accuracy: 93\n",
      "Iteration: 650. Loss: 0.2924889326095581. Accuracy: 94\n",
      "Iteration: 700. Loss: 0.22854205965995789. Accuracy: 94\n",
      "Iteration: 750. Loss: 0.22336572408676147. Accuracy: 94\n",
      "Iteration: 800. Loss: 0.17014899849891663. Accuracy: 94\n",
      "Iteration: 850. Loss: 0.20003987848758698. Accuracy: 95\n",
      "Iteration: 900. Loss: 0.16163089871406555. Accuracy: 95\n",
      "Iteration: 950. Loss: 0.12462420761585236. Accuracy: 94\n",
      "Iteration: 1000. Loss: 0.14923173189163208. Accuracy: 95\n",
      "Iteration: 1050. Loss: 0.14905165135860443. Accuracy: 95\n",
      "Iteration: 1100. Loss: 0.09983865916728973. Accuracy: 95\n",
      "Iteration: 1150. Loss: 0.12566688656806946. Accuracy: 95\n",
      "Iteration: 1200. Loss: 0.10875780135393143. Accuracy: 95\n",
      "Iteration: 1250. Loss: 0.07596150785684586. Accuracy: 95\n",
      "Iteration: 1300. Loss: 0.12889467179775238. Accuracy: 96\n",
      "Iteration: 1350. Loss: 0.16224345564842224. Accuracy: 96\n",
      "Iteration: 1400. Loss: 0.08931157737970352. Accuracy: 96\n",
      "Iteration: 1450. Loss: 0.16703777015209198. Accuracy: 96\n",
      "Iteration: 1500. Loss: 0.15680651366710663. Accuracy: 96\n",
      "Iteration: 1550. Loss: 0.038684312254190445. Accuracy: 96\n",
      "Iteration: 1600. Loss: 0.13946892321109772. Accuracy: 96\n",
      "Iteration: 1650. Loss: 0.07085742801427841. Accuracy: 96\n",
      "Iteration: 1700. Loss: 0.14798153936862946. Accuracy: 96\n",
      "Iteration: 1750. Loss: 0.14551393687725067. Accuracy: 96\n",
      "Iteration: 1800. Loss: 0.04754830524325371. Accuracy: 96\n",
      "Iteration: 1850. Loss: 0.053390249609947205. Accuracy: 97\n",
      "Iteration: 1900. Loss: 0.07969997078180313. Accuracy: 96\n",
      "Iteration: 1950. Loss: 0.04125538468360901. Accuracy: 97\n",
      "Iteration: 2000. Loss: 0.03503823280334473. Accuracy: 97\n",
      "Iteration: 2050. Loss: 0.04817543551325798. Accuracy: 97\n",
      "Iteration: 2100. Loss: 0.09318375587463379. Accuracy: 97\n",
      "Iteration: 2150. Loss: 0.10300052911043167. Accuracy: 97\n",
      "Iteration: 2200. Loss: 0.11461110413074493. Accuracy: 96\n",
      "Iteration: 2250. Loss: 0.01813739724457264. Accuracy: 97\n",
      "Iteration: 2300. Loss: 0.049711503088474274. Accuracy: 97\n",
      "Iteration: 2350. Loss: 0.024325694888830185. Accuracy: 96\n",
      "Iteration: 2400. Loss: 0.10720042884349823. Accuracy: 97\n",
      "Iteration: 2450. Loss: 0.04173918813467026. Accuracy: 97\n",
      "Iteration: 2500. Loss: 0.03409809619188309. Accuracy: 97\n",
      "Iteration: 2550. Loss: 0.11721348017454147. Accuracy: 97\n",
      "Iteration: 2600. Loss: 0.06503987312316895. Accuracy: 97\n",
      "Iteration: 2650. Loss: 0.06636591255664825. Accuracy: 97\n",
      "Iteration: 2700. Loss: 0.0522860586643219. Accuracy: 97\n",
      "Iteration: 2750. Loss: 0.023904995992779732. Accuracy: 97\n",
      "Iteration: 2800. Loss: 0.03807970881462097. Accuracy: 97\n",
      "Iteration: 2850. Loss: 0.07379142940044403. Accuracy: 97\n",
      "Iteration: 2900. Loss: 0.07653621584177017. Accuracy: 97\n",
      "Iteration: 2950. Loss: 0.08109835535287857. Accuracy: 97\n",
      "Iteration: 3000. Loss: 0.048760656267404556. Accuracy: 97\n"
     ]
    }
   ],
   "source": [
    "# %%time\n",
    "iteration = 0\n",
    "for epoch in range(n_epoch):\n",
    "    for i, (images, labels) in enumerate(train_loader):\n",
    "        \n",
    "        if cuda_available:\n",
    "            images = images.view(-1,28*28).cuda()\n",
    "            labels = labels.cuda()\n",
    "        else:\n",
    "            images = torch.Tensor(images.view(-1,28*28))    \n",
    "\n",
    "        optimizer.zero_grad()\n",
    "\n",
    "        output = model(images)\n",
    "\n",
    "        loss = criterion(output, labels)\n",
    "\n",
    "        loss.backward()\n",
    "\n",
    "        optimizer.step()\n",
    "\n",
    "        iteration +=1\n",
    "\n",
    "        if iteration % 50 ==0:\n",
    "            total = 0\n",
    "            correct = 0\n",
    "            for images, labels in test_loader:\n",
    "                \n",
    "                if cuda_available:\n",
    "                    images = images.view(100, 28*28).cuda()\n",
    "                else:\n",
    "                    images = images.view(100, 28*28)\n",
    "\n",
    "                output = model(images)\n",
    "                _, predicted = torch.max(output.data, 1)\n",
    "                total += labels.size(0)\n",
    "                correct += (predicted.cpu() == labels.cpu()).sum()\n",
    "                \n",
    "            accuracy = 100.0 * correct / total\n",
    "            # Print Loss\n",
    "            print('Iteration: {}. Loss: {}. Accuracy: {}'.format(iteration, loss.data.item(), accuracy))\n"
   ]
  },
  {
   "cell_type": "code",
   "execution_count": 0,
   "metadata": {
    "colab": {},
    "colab_type": "code",
    "id": "mdpFAXe4QZyg"
   },
   "outputs": [],
   "source": []
  }
 ],
 "metadata": {
  "colab": {
   "collapsed_sections": [],
   "name": "MNIST_with_pytorch.ipynb",
   "provenance": [],
   "version": "0.3.2"
  },
  "kernelspec": {
   "display_name": "Python 3",
   "language": "python",
   "name": "python3"
  },
  "language_info": {
   "codemirror_mode": {
    "name": "ipython",
    "version": 3
   },
   "file_extension": ".py",
   "mimetype": "text/x-python",
   "name": "python",
   "nbconvert_exporter": "python",
   "pygments_lexer": "ipython3",
   "version": "3.6.8"
  },
  "varInspector": {
   "cols": {
    "lenName": 16,
    "lenType": 16,
    "lenVar": 40
   },
   "kernels_config": {
    "python": {
     "delete_cmd_postfix": "",
     "delete_cmd_prefix": "del ",
     "library": "var_list.py",
     "varRefreshCmd": "print(var_dic_list())"
    },
    "r": {
     "delete_cmd_postfix": ") ",
     "delete_cmd_prefix": "rm(",
     "library": "var_list.r",
     "varRefreshCmd": "cat(var_dic_list()) "
    }
   },
   "position": {
    "height": "378px",
    "left": "902px",
    "right": "20px",
    "top": "57px",
    "width": "350px"
   },
   "types_to_exclude": [
    "module",
    "function",
    "builtin_function_or_method",
    "instance",
    "_Feature"
   ],
   "window_display": false
  }
 },
 "nbformat": 4,
 "nbformat_minor": 1
}
