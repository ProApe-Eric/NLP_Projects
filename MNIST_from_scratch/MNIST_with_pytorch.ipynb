{
 "cells": [
  {
   "cell_type": "markdown",
   "metadata": {},
   "source": [
    "# MNIST NN classifier with pytorch\n",
    "\n",
    "## 1. Download data"
   ]
  },
  {
   "cell_type": "code",
   "execution_count": 1,
   "metadata": {
    "ExecuteTime": {
     "end_time": "2019-07-19T18:20:30.361895Z",
     "start_time": "2019-07-19T18:20:29.462199Z"
    }
   },
   "outputs": [],
   "source": [
    "import numpy as np\n",
    "import torch\n",
    "import torch.nn as nn\n",
    "import torchvision.transforms as transforms\n",
    "import torchvision.datasets as dsets\n",
    "from torch.autograd import Variable"
   ]
  },
  {
   "cell_type": "code",
   "execution_count": 2,
   "metadata": {
    "ExecuteTime": {
     "end_time": "2019-07-19T18:20:30.503558Z",
     "start_time": "2019-07-19T18:20:30.365205Z"
    }
   },
   "outputs": [],
   "source": [
    "train_data = dsets.MNIST(root='./data',\n",
    "                         train=True,\n",
    "                         download=True,\n",
    "                         transform=transforms.ToTensor()\n",
    "                        )\n",
    "test_data = dsets.MNIST(root='./data',\n",
    "                        train=False,\n",
    "                        transform=transforms.ToTensor()\n",
    "                       )"
   ]
  },
  {
   "cell_type": "markdown",
   "metadata": {},
   "source": [
    "## 2. Make it iterable"
   ]
  },
  {
   "cell_type": "code",
   "execution_count": 3,
   "metadata": {
    "ExecuteTime": {
     "end_time": "2019-07-19T18:20:30.516573Z",
     "start_time": "2019-07-19T18:20:30.508852Z"
    }
   },
   "outputs": [
    {
     "name": "stdout",
     "output_type": "stream",
     "text": [
      "Dataset MNIST\n",
      "    Number of datapoints: 60000\n",
      "    Root location: ./data\n",
      "    Split: Train\n",
      "Dataset MNIST\n",
      "    Number of datapoints: 10000\n",
      "    Root location: ./data\n",
      "    Split: Test\n",
      "Batches in one epoch : 600\n"
     ]
    }
   ],
   "source": [
    "print(train_data)\n",
    "print(test_data)\n",
    "\n",
    "batch_size = 100\n",
    "n_iter = 3000\n",
    "n_epoch = int(n_iter / (len(train_data) / batch_size))\n",
    "\n",
    "train_loader = torch.utils.data.DataLoader(dataset=train_data,\n",
    "                                      batch_size=batch_size,\n",
    "                                      shuffle=True,\n",
    "                                      drop_last=True\n",
    "                                     )\n",
    "test_loader = torch.utils.data.DataLoader(dataset=test_data,\n",
    "                                      batch_size=batch_size,\n",
    "                                      shuffle=False,\n",
    "                                      drop_last=True\n",
    "                                     )\n",
    "print('Batches in one epoch : ' + str(len(train_loader)))"
   ]
  },
  {
   "cell_type": "markdown",
   "metadata": {},
   "source": [
    "## 3.Build the model\n",
    "Here I use a 2 hidden layer shallow model.  \n",
    "Nodes in every layer can be adjusted as hyper-parameter later.  \n",
    "\n",
    "<img src='img/Net.jpeg' width=500>"
   ]
  },
  {
   "cell_type": "code",
   "execution_count": 4,
   "metadata": {
    "ExecuteTime": {
     "end_time": "2019-07-19T18:20:30.536268Z",
     "start_time": "2019-07-19T18:20:30.521564Z"
    }
   },
   "outputs": [],
   "source": [
    "# TODO:: refactor into layer function to call\n",
    "class NeuralNet(nn.Module):\n",
    "    def __init__(self, in_dim, hid_dim_1, hid_dim_2, out_dim):\n",
    "        super(NeuralNet, self).__init__()\n",
    "        \n",
    "        # Layer1\n",
    "        self.fc1 = nn.Linear(in_features=in_dim, out_features=hid_dim_1, bias=True)\n",
    "        self.relu1 = nn.ReLU()\n",
    "        \n",
    "        # Layer2\n",
    "        self.fc2 = nn.Linear(in_features=hid_dim_1, out_features=hid_dim_2, bias=True)\n",
    "        self.relu2 = nn.ReLU()\n",
    "        \n",
    "        # Layer3 out\n",
    "        self.fc3 = nn.Linear(in_features=hid_dim_2, out_features=out_dim, bias=True)\n",
    "    \n",
    "    def forward(self, x):\n",
    "        out = self.fc1(x)\n",
    "        out = self.relu1(out)\n",
    "        \n",
    "        out = self.fc2(out)\n",
    "        out = self.relu2(out)\n",
    "        \n",
    "        out = self.fc3(out)\n",
    "        return out\n",
    "    "
   ]
  },
  {
   "cell_type": "markdown",
   "metadata": {},
   "source": [
    "## 4. instantiate model"
   ]
  },
  {
   "cell_type": "code",
   "execution_count": 5,
   "metadata": {
    "ExecuteTime": {
     "end_time": "2019-07-19T18:20:30.569453Z",
     "start_time": "2019-07-19T18:20:30.544264Z"
    }
   },
   "outputs": [],
   "source": [
    "in_dim = 28*28\n",
    "out_dim = 10\n",
    "hid_dim_1 = 500\n",
    "hid_dim_2 = 100\n",
    "\n",
    "model = NeuralNet(in_dim=in_dim, hid_dim_1=hid_dim_1, hid_dim_2=hid_dim_2, out_dim=out_dim)\n",
    "\n",
    "# loss function\n",
    "criterion = nn.CrossEntropyLoss()\n",
    "\n",
    "# optimizer\n",
    "momentum = 0.4\n",
    "lr = 0.1\n",
    "optimizer = torch.optim.SGD(model.parameters(), lr=lr, momentum=momentum)\n"
   ]
  },
  {
   "cell_type": "markdown",
   "metadata": {},
   "source": [
    "## 5.Train"
   ]
  },
  {
   "cell_type": "code",
   "execution_count": 6,
   "metadata": {
    "ExecuteTime": {
     "end_time": "2019-07-19T18:23:49.170211Z",
     "start_time": "2019-07-19T18:20:30.575444Z"
    }
   },
   "outputs": [
    {
     "name": "stdout",
     "output_type": "stream",
     "text": [
      "Iteration: 50. Loss: 1.0377416610717773. Accuracy: 74\n",
      "Iteration: 100. Loss: 0.5705192685127258. Accuracy: 83\n",
      "Iteration: 150. Loss: 0.28889885544776917. Accuracy: 89\n",
      "Iteration: 200. Loss: 0.3787156641483307. Accuracy: 89\n",
      "Iteration: 250. Loss: 0.37976351380348206. Accuracy: 90\n",
      "Iteration: 300. Loss: 0.20429667830467224. Accuracy: 91\n",
      "Iteration: 350. Loss: 0.3439764380455017. Accuracy: 92\n",
      "Iteration: 400. Loss: 0.36298462748527527. Accuracy: 91\n",
      "Iteration: 450. Loss: 0.30877169966697693. Accuracy: 92\n",
      "Iteration: 500. Loss: 0.22305038571357727. Accuracy: 93\n",
      "Iteration: 550. Loss: 0.14639055728912354. Accuracy: 93\n",
      "Iteration: 600. Loss: 0.21425558626651764. Accuracy: 93\n",
      "Iteration: 650. Loss: 0.2670036852359772. Accuracy: 93\n",
      "Iteration: 700. Loss: 0.17512629926204681. Accuracy: 94\n",
      "Iteration: 750. Loss: 0.20291756093502045. Accuracy: 94\n",
      "Iteration: 800. Loss: 0.1425827443599701. Accuracy: 95\n",
      "Iteration: 850. Loss: 0.15749768912792206. Accuracy: 94\n",
      "Iteration: 900. Loss: 0.1525595337152481. Accuracy: 95\n",
      "Iteration: 950. Loss: 0.14191986620426178. Accuracy: 95\n",
      "Iteration: 1000. Loss: 0.11109801381826401. Accuracy: 95\n",
      "Iteration: 1050. Loss: 0.1859418898820877. Accuracy: 95\n",
      "Iteration: 1100. Loss: 0.11831416934728622. Accuracy: 95\n",
      "Iteration: 1150. Loss: 0.1753106266260147. Accuracy: 96\n",
      "Iteration: 1200. Loss: 0.08729049563407898. Accuracy: 96\n",
      "Iteration: 1250. Loss: 0.09564194083213806. Accuracy: 95\n",
      "Iteration: 1300. Loss: 0.12455007433891296. Accuracy: 96\n",
      "Iteration: 1350. Loss: 0.08501958847045898. Accuracy: 96\n",
      "Iteration: 1400. Loss: 0.06158391013741493. Accuracy: 96\n",
      "Iteration: 1450. Loss: 0.06618526577949524. Accuracy: 96\n",
      "Iteration: 1500. Loss: 0.096567802131176. Accuracy: 96\n",
      "Iteration: 1550. Loss: 0.08600900322198868. Accuracy: 96\n",
      "Iteration: 1600. Loss: 0.07621961832046509. Accuracy: 96\n",
      "Iteration: 1650. Loss: 0.11783333122730255. Accuracy: 96\n",
      "Iteration: 1700. Loss: 0.08121879398822784. Accuracy: 96\n",
      "Iteration: 1750. Loss: 0.08960879594087601. Accuracy: 97\n",
      "Iteration: 1800. Loss: 0.10868074744939804. Accuracy: 97\n",
      "Iteration: 1850. Loss: 0.0911637395620346. Accuracy: 96\n",
      "Iteration: 1900. Loss: 0.06039854511618614. Accuracy: 97\n",
      "Iteration: 1950. Loss: 0.08793296664953232. Accuracy: 96\n",
      "Iteration: 2000. Loss: 0.06502476334571838. Accuracy: 96\n",
      "Iteration: 2050. Loss: 0.17750057578086853. Accuracy: 97\n",
      "Iteration: 2100. Loss: 0.04292979836463928. Accuracy: 97\n",
      "Iteration: 2150. Loss: 0.018771862611174583. Accuracy: 97\n",
      "Iteration: 2200. Loss: 0.042782992124557495. Accuracy: 97\n",
      "Iteration: 2250. Loss: 0.04463488608598709. Accuracy: 97\n",
      "Iteration: 2300. Loss: 0.08484308421611786. Accuracy: 97\n",
      "Iteration: 2350. Loss: 0.08094372600317001. Accuracy: 97\n",
      "Iteration: 2400. Loss: 0.04982057586312294. Accuracy: 97\n",
      "Iteration: 2450. Loss: 0.021984724327921867. Accuracy: 97\n",
      "Iteration: 2500. Loss: 0.030789099633693695. Accuracy: 97\n",
      "Iteration: 2550. Loss: 0.02560914121568203. Accuracy: 97\n",
      "Iteration: 2600. Loss: 0.09131009131669998. Accuracy: 97\n",
      "Iteration: 2650. Loss: 0.02667376957833767. Accuracy: 97\n",
      "Iteration: 2700. Loss: 0.044553618878126144. Accuracy: 97\n",
      "Iteration: 2750. Loss: 0.046809401363134384. Accuracy: 97\n",
      "Iteration: 2800. Loss: 0.03303096443414688. Accuracy: 97\n",
      "Iteration: 2850. Loss: 0.04040953144431114. Accuracy: 97\n",
      "Iteration: 2900. Loss: 0.06136520951986313. Accuracy: 97\n",
      "Iteration: 2950. Loss: 0.04740963503718376. Accuracy: 97\n",
      "Iteration: 3000. Loss: 0.06317542493343353. Accuracy: 97\n"
     ]
    }
   ],
   "source": [
    "iteration = 0\n",
    "for epoch in range(n_epoch):\n",
    "    for i, (images, labels) in enumerate(train_loader):\n",
    "        images = torch.Tensor(images.view(-1,28*28))\n",
    "#         print(images.size())\n",
    "#         labels = torch.Tensor(labels)\n",
    "\n",
    "        optimizer.zero_grad()\n",
    "\n",
    "        output = model(images)\n",
    "\n",
    "        loss = criterion(output, labels)\n",
    "\n",
    "        loss.backward()\n",
    "\n",
    "        optimizer.step()\n",
    "\n",
    "        iteration +=1\n",
    "\n",
    "        if iteration % 50 ==0:\n",
    "            total = 0\n",
    "            correct = 0\n",
    "            for images, labels in test_loader:\n",
    "                images = images.view(100, 28*28)\n",
    "#                 print(images.size())\n",
    "                output = model(images)\n",
    "                _, predicted = torch.max(output.data, 1)\n",
    "                total += labels.size(0)\n",
    "                correct += (predicted.cpu() == labels.cpu()).sum()\n",
    "                \n",
    "            accuracy = 100 * correct / total\n",
    "            # Print Loss\n",
    "            print('Iteration: {}. Loss: {}. Accuracy: {}'.format(iteration, loss.data.item(), accuracy))\n"
   ]
  },
  {
   "cell_type": "code",
   "execution_count": null,
   "metadata": {},
   "outputs": [],
   "source": []
  }
 ],
 "metadata": {
  "kernelspec": {
   "display_name": "Python 3",
   "language": "python",
   "name": "python3"
  },
  "language_info": {
   "codemirror_mode": {
    "name": "ipython",
    "version": 3
   },
   "file_extension": ".py",
   "mimetype": "text/x-python",
   "name": "python",
   "nbconvert_exporter": "python",
   "pygments_lexer": "ipython3",
   "version": "3.6.8"
  },
  "varInspector": {
   "cols": {
    "lenName": 16,
    "lenType": 16,
    "lenVar": 40
   },
   "kernels_config": {
    "python": {
     "delete_cmd_postfix": "",
     "delete_cmd_prefix": "del ",
     "library": "var_list.py",
     "varRefreshCmd": "print(var_dic_list())"
    },
    "r": {
     "delete_cmd_postfix": ") ",
     "delete_cmd_prefix": "rm(",
     "library": "var_list.r",
     "varRefreshCmd": "cat(var_dic_list()) "
    }
   },
   "position": {
    "height": "378px",
    "left": "902px",
    "right": "20px",
    "top": "57px",
    "width": "350px"
   },
   "types_to_exclude": [
    "module",
    "function",
    "builtin_function_or_method",
    "instance",
    "_Feature"
   ],
   "window_display": false
  }
 },
 "nbformat": 4,
 "nbformat_minor": 2
}
