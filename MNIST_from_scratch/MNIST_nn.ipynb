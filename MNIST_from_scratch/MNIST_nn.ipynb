{
 "cells": [
  {
   "cell_type": "markdown",
   "metadata": {},
   "source": [
    "# Two Day project: MNIST with and without torch.nn\n",
    "\n",
    "### numpy arithmetic manipulation\n",
    "1. `+ - * /`\n",
    "2. `+= -= *= /=`\n",
    "3. `@ dot()`\n",
    "4. `np.random.random([4,4])`\n",
    "5. `sum() cumsum() min()  argmin()  argmax()` with axis 0-horizontally, 1-vertically\n",
    "6. `np.arange(9).reshape(3,3)`\n",
    "7. `all()  any()`\n",
    "8. `ones()  zeros()`\n",
    "9. `mean()  median()  std()`\n",
    "10. `np.arange(start, stop, stride)`\n",
    "11. `np.sort(array, axis)  argsort(array, axis)`\n",
    "12. `argmax(array)  argmin(array)`\n",
    "13. `array.shape  array.reshape((3,3))  array.ravel()`\n",
    "\n",
    "### pytorch arithmetic manipulation\n",
    "0. `torch.is_tensor(a)`\n",
    "1. build: `torch.Tensor(3,3)  torch.randn(4,2,3)  torch.from_numpy(a)  v.numpy()  torch.LongTensor()`\n",
    "2. manupulation: `torch.add(a, b, out=r1)  a.add_(b)`\n",
    "3. size: `a.view(3,3)  torch.numel(a)`\n",
    "\n",
    "\n",
    "## 1. Download Data"
   ]
  },
  {
   "cell_type": "code",
   "execution_count": 1,
   "metadata": {
    "ExecuteTime": {
     "end_time": "2019-07-18T19:24:08.537234Z",
     "start_time": "2019-07-18T19:24:05.433652Z"
    }
   },
   "outputs": [],
   "source": [
    "from pathlib import Path\n",
    "import requests\n",
    "\n",
    "DATA_PATH = Path(\"data\")\n",
    "PATH = DATA_PATH / \"mnist\"\n",
    "\n",
    "PATH.mkdir(parents=True, exist_ok=True)\n",
    "\n",
    "URL = \"http://deeplearning.net/data/mnist/\"\n",
    "FILENAME = \"mnist.pkl.gz\"\n",
    "\n",
    "if not (PATH / FILENAME).exists():\n",
    "        content = requests.get(URL + FILENAME).content\n",
    "        (PATH / FILENAME).open(\"wb\").write(content)"
   ]
  },
  {
   "cell_type": "code",
   "execution_count": 2,
   "metadata": {
    "ExecuteTime": {
     "end_time": "2019-07-18T19:26:00.722501Z",
     "start_time": "2019-07-18T19:25:59.160854Z"
    }
   },
   "outputs": [],
   "source": [
    "import pickle\n",
    "import gzip\n",
    "\n",
    "with gzip.open((PATH / FILENAME).as_posix(), \"rb\") as f:\n",
    "        ((x_train, y_train), (x_valid, y_valid), _) = pickle.load(f, encoding=\"latin-1\")"
   ]
  },
  {
   "cell_type": "code",
   "execution_count": 10,
   "metadata": {
    "ExecuteTime": {
     "end_time": "2019-07-18T19:30:02.360418Z",
     "start_time": "2019-07-18T19:30:02.131655Z"
    }
   },
   "outputs": [
    {
     "name": "stdout",
     "output_type": "stream",
     "text": [
      "x_train: (50000, 784)\n",
      "y_train: (50000,)\n",
      "x_valid: (10000, 784)\n",
      "y_valid: (10000,)\n"
     ]
    },
    {
     "data": {
      "image/png": "[encoded data removed]",
      "text/plain": [
       "<Figure size 432x288 with 1 Axes>"
      ]
     },
     "metadata": {
      "needs_background": "light"
     },
     "output_type": "display_data"
    }
   ],
   "source": [
    "from matplotlib import pyplot\n",
    "import numpy as np\n",
    "\n",
    "pyplot.imshow(x_train[0].reshape(28,28), cmap='gray')\n",
    "print('x_train:', str(x_train.shape))\n",
    "print('y_train:', str(y_train.shape))\n",
    "print('x_valid:', str(x_valid.shape))\n",
    "print('y_valid:', str(y_valid.shape))"
   ]
  },
  {
   "cell_type": "code",
   "execution_count": null,
   "metadata": {},
   "outputs": [],
   "source": []
  }
 ],
 "metadata": {
  "kernelspec": {
   "display_name": "Python 3",
   "language": "python",
   "name": "python3"
  },
  "language_info": {
   "codemirror_mode": {
    "name": "ipython",
    "version": 3
   },
   "file_extension": ".py",
   "mimetype": "text/x-python",
   "name": "python",
   "nbconvert_exporter": "python",
   "pygments_lexer": "ipython3",
   "version": "3.6.8"
  },
  "varInspector": {
   "cols": {
    "lenName": 16,
    "lenType": 16,
    "lenVar": 40
   },
   "kernels_config": {
    "python": {
     "delete_cmd_postfix": "",
     "delete_cmd_prefix": "del ",
     "library": "var_list.py",
     "varRefreshCmd": "print(var_dic_list())"
    },
    "r": {
     "delete_cmd_postfix": ") ",
     "delete_cmd_prefix": "rm(",
     "library": "var_list.r",
     "varRefreshCmd": "cat(var_dic_list()) "
    }
   },
   "position": {
    "height": "216px",
    "left": "927px",
    "right": "20px",
    "top": "2px",
    "width": "350px"
   },
   "types_to_exclude": [
    "module",
    "function",
    "builtin_function_or_method",
    "instance",
    "_Feature"
   ],
   "window_display": false
  }
 },
 "nbformat": 4,
 "nbformat_minor": 2
}
