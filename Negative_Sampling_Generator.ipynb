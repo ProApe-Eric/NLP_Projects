{
 "cells": [
  {
   "cell_type": "markdown",
   "metadata": {},
   "source": [
    "## Index Generator for Negative Sampling in word2vec"
   ]
  },
  {
   "cell_type": "markdown",
   "metadata": {},
   "source": [
    "### Assume the word count"
   ]
  },
  {
   "cell_type": "code",
   "execution_count": 1,
   "metadata": {
    "ExecuteTime": {
     "end_time": "2019-07-23T18:54:15.472913Z",
     "start_time": "2019-07-23T18:54:15.461148Z"
    }
   },
   "outputs": [],
   "source": [
    "import random\n",
    "CORPRUS_SIZE = 100000"
   ]
  },
  {
   "cell_type": "code",
   "execution_count": 2,
   "metadata": {
    "ExecuteTime": {
     "end_time": "2019-07-23T18:54:15.732502Z",
     "start_time": "2019-07-23T18:54:15.480501Z"
    }
   },
   "outputs": [],
   "source": [
    "# replace with true word count, this is simulated one\n",
    "word_count = []\n",
    "for i in range(CORPRUS_SIZE):\n",
    "    word_count.append(random.randint(1,100))"
   ]
  },
  {
   "cell_type": "markdown",
   "metadata": {},
   "source": [
    "### Count Possibility for every word"
   ]
  },
  {
   "cell_type": "code",
   "execution_count": 3,
   "metadata": {
    "ExecuteTime": {
     "end_time": "2019-07-23T18:54:15.811558Z",
     "start_time": "2019-07-23T18:54:15.737329Z"
    }
   },
   "outputs": [],
   "source": [
    "possibility = []\n",
    "total = 0\n",
    "for i in word_count:\n",
    "    powered = pow(i, 0.75)\n",
    "    total += powered\n",
    "    possibility.append(powered)"
   ]
  },
  {
   "cell_type": "code",
   "execution_count": 4,
   "metadata": {
    "ExecuteTime": {
     "end_time": "2019-07-23T18:54:15.840198Z",
     "start_time": "2019-07-23T18:54:15.816725Z"
    }
   },
   "outputs": [],
   "source": [
    "for i in range(len(possibility)):\n",
    "    possibility[i] /= total"
   ]
  },
  {
   "cell_type": "markdown",
   "metadata": {},
   "source": [
    "### Partition off [0,1]"
   ]
  },
  {
   "cell_type": "code",
   "execution_count": 5,
   "metadata": {
    "ExecuteTime": {
     "end_time": "2019-07-23T18:54:15.874180Z",
     "start_time": "2019-07-23T18:54:15.842089Z"
    }
   },
   "outputs": [],
   "source": [
    "patition = []\n",
    "cumsum = 0\n",
    "for p in possibility:\n",
    "    cumsum += p\n",
    "    patition.append(cumsum)"
   ]
  },
  {
   "cell_type": "code",
   "execution_count": 6,
   "metadata": {
    "ExecuteTime": {
     "end_time": "2019-07-23T18:54:15.881369Z",
     "start_time": "2019-07-23T18:54:15.877425Z"
    }
   },
   "outputs": [],
   "source": [
    "# for i in range(len(patition)):\n",
    "#     print(str(i)+'\\t'+str(patition[i]))"
   ]
  },
  {
   "cell_type": "markdown",
   "metadata": {},
   "source": [
    "### Index Generator"
   ]
  },
  {
   "cell_type": "code",
   "execution_count": 7,
   "metadata": {
    "ExecuteTime": {
     "end_time": "2019-07-23T18:54:15.888830Z",
     "start_time": "2019-07-23T18:54:15.883689Z"
    }
   },
   "outputs": [],
   "source": [
    "def index_generator():\n",
    "    rand = random.random() * patition[-1] ## bit inaccuracy \n",
    "#     print(rand)\n",
    "    \n",
    "    #binary search\n",
    "    if rand <= patition[0]:\n",
    "        return 0\n",
    "    low = 0\n",
    "    high = CORPRUS_SIZE - 1\n",
    "    while high - low > 1:\n",
    "        mid = int((high + low)/2)\n",
    "        if patition[mid] == rand:\n",
    "            return mid\n",
    "        elif patition[mid] < rand:\n",
    "            low = mid\n",
    "        elif patition[mid] > rand:\n",
    "            high = mid\n",
    "    return high\n",
    "        "
   ]
  },
  {
   "cell_type": "code",
   "execution_count": 8,
   "metadata": {
    "ExecuteTime": {
     "end_time": "2019-07-23T18:54:15.907763Z",
     "start_time": "2019-07-23T18:54:15.899083Z"
    }
   },
   "outputs": [
    {
     "name": "stdout",
     "output_type": "stream",
     "text": [
      "63179\n"
     ]
    }
   ],
   "source": [
    "print(index_generator())"
   ]
  },
  {
   "cell_type": "markdown",
   "metadata": {},
   "source": [
    "### Efficiency test"
   ]
  },
  {
   "cell_type": "code",
   "execution_count": 11,
   "metadata": {
    "ExecuteTime": {
     "end_time": "2019-07-23T18:56:47.975710Z",
     "start_time": "2019-07-23T18:56:47.006613Z"
    }
   },
   "outputs": [
    {
     "name": "stdout",
     "output_type": "stream",
     "text": [
      "With corpus size: 100000\n",
      "Generating amount: 100000\n",
      "Time Consuming:\n",
      "CPU times: user 927 ms, sys: 11.1 ms, total: 938 ms\n",
      "Wall time: 965 ms\n"
     ]
    }
   ],
   "source": [
    "%%time\n",
    "test_amount = 100000\n",
    "for i in range(test_amount):\n",
    "    index_generator()\n",
    "print('With corpus size: '+str(CORPRUS_SIZE))\n",
    "print('Generating amount: '+str(test_amount))\n",
    "print('Time Consuming:')"
   ]
  },
  {
   "cell_type": "markdown",
   "metadata": {},
   "source": []
  }
 ],
 "metadata": {
  "kernelspec": {
   "display_name": "Python 3",
   "language": "python",
   "name": "python3"
  },
  "language_info": {
   "codemirror_mode": {
    "name": "ipython",
    "version": 3
   },
   "file_extension": ".py",
   "mimetype": "text/x-python",
   "name": "python",
   "nbconvert_exporter": "python",
   "pygments_lexer": "ipython3",
   "version": "3.6.8"
  },
  "varInspector": {
   "cols": {
    "lenName": 16,
    "lenType": 16,
    "lenVar": 40
   },
   "kernels_config": {
    "python": {
     "delete_cmd_postfix": "",
     "delete_cmd_prefix": "del ",
     "library": "var_list.py",
     "varRefreshCmd": "print(var_dic_list())"
    },
    "r": {
     "delete_cmd_postfix": ") ",
     "delete_cmd_prefix": "rm(",
     "library": "var_list.r",
     "varRefreshCmd": "cat(var_dic_list()) "
    }
   },
   "types_to_exclude": [
    "module",
    "function",
    "builtin_function_or_method",
    "instance",
    "_Feature"
   ],
   "window_display": false
  }
 },
 "nbformat": 4,
 "nbformat_minor": 2
}
