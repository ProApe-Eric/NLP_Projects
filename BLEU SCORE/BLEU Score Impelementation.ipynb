{
 "cells": [
  {
   "cell_type": "markdown",
   "metadata": {},
   "source": [
    "# BLEU Score Impelementation\n",
    "Bilingual Evaluation Understudy\n",
    "<img src='img/bleu_bigram.png' width=500/>"
   ]
  },
  {
   "cell_type": "markdown",
   "metadata": {},
   "source": [
    "## 1. Some Preparation"
   ]
  },
  {
   "cell_type": "code",
   "execution_count": 1,
   "metadata": {
    "ExecuteTime": {
     "end_time": "2019-09-05T15:12:56.059606Z",
     "start_time": "2019-09-05T15:12:56.050406Z"
    }
   },
   "outputs": [],
   "source": [
    "ref1 = 'The cat is on the mat'\n",
    "ref2 = 'There is a cat on the mat'\n",
    "mt_out = 'The cat the cat on the mat'\n",
    "ref_l = [ref1, ref2]"
   ]
  },
  {
   "cell_type": "code",
   "execution_count": 2,
   "metadata": {
    "ExecuteTime": {
     "end_time": "2019-09-05T15:12:56.074409Z",
     "start_time": "2019-09-05T15:12:56.064742Z"
    }
   },
   "outputs": [],
   "source": [
    "# parse a sentence into a unigram dict\n",
    "# key: unigram\n",
    "# val: unigram count\n",
    "\n",
    "def parse_sentence(sentence):\n",
    "    bag_of_words = sentence.split()\n",
    "    parse_sent = dict()\n",
    "    for word in bag_of_words:\n",
    "        if word in parse_sent:\n",
    "            parse_sent[word] += 1\n",
    "        else:\n",
    "            parse_sent[word] = 1\n",
    "    return parse_sent"
   ]
  },
  {
   "cell_type": "code",
   "execution_count": 3,
   "metadata": {
    "ExecuteTime": {
     "end_time": "2019-09-05T15:12:56.092589Z",
     "start_time": "2019-09-05T15:12:56.079119Z"
    }
   },
   "outputs": [],
   "source": [
    "# parse a sentence into a ngram dict\n",
    "# key: ngram\n",
    "# val: ngram count\n",
    "\n",
    "def parse_sentence_ngram(sentence, ngram=1, toLowerCase=True, stripPunctuation=False):\n",
    "#   prepare\n",
    "    if stripPunctuation:\n",
    "        sentence.replace('.','')\n",
    "        sentence.replace(',','')\n",
    "        sentence.replace('?','')\n",
    "        sentence.replace('!','')\n",
    "    if toLowerCase:\n",
    "        bag_of_words = sentence.lower().split()\n",
    "    else:\n",
    "        bag_of_words = sentence.split()\n",
    "    parse_sent = dict()\n",
    "    for i in range(len(bag_of_words) - ngram + 1):\n",
    "        word_list = bag_of_words[i:ngram+i]\n",
    "        word = ''\n",
    "        for i in word_list:\n",
    "            word += i + ' '\n",
    "        word = word[:-1]\n",
    "        if word in parse_sent:\n",
    "            parse_sent[word] += 1\n",
    "        else:\n",
    "            parse_sent[word] = 1\n",
    "    return parse_sent"
   ]
  },
  {
   "cell_type": "markdown",
   "metadata": {},
   "source": [
    "## 2. Bleu Score for unigram and bigram\n",
    "Use of these two functions are deprecated"
   ]
  },
  {
   "cell_type": "code",
   "execution_count": 4,
   "metadata": {
    "ExecuteTime": {
     "end_time": "2019-09-05T15:12:56.119920Z",
     "start_time": "2019-09-05T15:12:56.096073Z"
    }
   },
   "outputs": [],
   "source": [
    "def bleu_uni(ref_list, mt_out):\n",
    "    # get max count for all ref sentences\n",
    "    max_count = dict()\n",
    "    for sentence in ref_list:\n",
    "        sentence = sentence.lower()\n",
    "    #   parse sentence into dict\n",
    "        parse_sent = parse_sentence(sentence)\n",
    "    #   merge parse_sent into max_count\n",
    "        for key, val in parse_sent.items():\n",
    "            if key not in max_count or max_count[key] < val:\n",
    "                max_count[key] = val\n",
    "\n",
    "    # count bleu score\n",
    "    parse_output = parse_sentence(mt_out.lower())\n",
    "    total_count = sum(parse_output.values())\n",
    "    valid_keys = []\n",
    "    for key in parse_output.keys():\n",
    "        if key in max_count:\n",
    "            valid_keys.append(key)\n",
    "    count_clip = sum(parse_output[key] if parse_output[key] < max_count[key] else max_count[key] for key in valid_keys)\n",
    "    bleu_score = count_clip / total_count\n",
    "    return bleu_score"
   ]
  },
  {
   "cell_type": "code",
   "execution_count": 5,
   "metadata": {
    "ExecuteTime": {
     "end_time": "2019-09-05T15:12:56.168439Z",
     "start_time": "2019-09-05T15:12:56.128111Z"
    }
   },
   "outputs": [],
   "source": [
    "def bleu_bi(ref_list, mt_out):\n",
    "    # get max count for all ref sentences\n",
    "    max_count = dict()\n",
    "    for sentence in ref_list:\n",
    "        sentence = sentence.lower()\n",
    "    #   parse sentence into dict\n",
    "        parse_sent = parse_sentence_ngram(sentence, ngram=2)\n",
    "    #   merge parse_sent into max_count\n",
    "        for key, val in parse_sent.items():\n",
    "            if key not in max_count or max_count[key] < val:\n",
    "                max_count[key] = val\n",
    "\n",
    "    # count bleu score \n",
    "    output_count = parse_sentence_ngram(mt_out.lower(), ngram=2)\n",
    "    total_count = sum(output_count.values())\n",
    "    valid_keys = []\n",
    "    for key in output_count.keys():\n",
    "        if key in max_count:\n",
    "            valid_keys.append(key)\n",
    "    count_clip = sum(output_count[key] if output_count[key] < max_count[key] else max_count[key] for key in valid_keys)\n",
    "    bleu_score = count_clip / total_count\n",
    "    return bleu_score"
   ]
  },
  {
   "cell_type": "markdown",
   "metadata": {},
   "source": [
    "## 3. Bleu Score for any ngram"
   ]
  },
  {
   "cell_type": "code",
   "execution_count": 6,
   "metadata": {
    "ExecuteTime": {
     "end_time": "2019-09-05T15:12:56.185314Z",
     "start_time": "2019-09-05T15:12:56.170425Z"
    }
   },
   "outputs": [],
   "source": [
    "def bleu_ngram(ref_list, mt_out, ngram, toLowerCase=True, stripPunctuation=False):\n",
    "    if ngram > len(mt_out.split()):\n",
    "        return\n",
    "    # get max count for all ref sentences\n",
    "    max_count = dict()\n",
    "    for sentence in ref_list:\n",
    "    #   parse sentence into dict\n",
    "        parse_sent = parse_sentence_ngram(sentence, ngram, toLowerCase, stripPunctuation)\n",
    "    #   merge parse_sent into max_count\n",
    "        for key, val in parse_sent.items():\n",
    "            if key not in max_count or max_count[key] < val:\n",
    "                max_count[key] = val\n",
    "\n",
    "    # count bleu score \n",
    "    output_count = parse_sentence_ngram(mt_out, ngram, toLowerCase, stripPunctuation)\n",
    "    total_count = sum(output_count.values())\n",
    "    valid_keys = []\n",
    "    for key in output_count.keys():\n",
    "        if key in max_count:\n",
    "            valid_keys.append(key)\n",
    "    count_clip = sum(output_count[key] if output_count[key] < max_count[key] else max_count[key] for key in valid_keys)\n",
    "    bleu_score = count_clip / total_count\n",
    "    return bleu_score\n",
    "\n"
   ]
  },
  {
   "cell_type": "markdown",
   "metadata": {},
   "source": [
    "## 4. Combined Bleu Score with bp penalty"
   ]
  },
  {
   "cell_type": "markdown",
   "metadata": {
    "ExecuteTime": {
     "end_time": "2019-09-05T15:24:19.431587Z",
     "start_time": "2019-09-05T15:24:19.425241Z"
    }
   },
   "source": [
    "<img src='img/combined_brevity_penalized_bleu.png' width=500/>"
   ]
  },
  {
   "cell_type": "code",
   "execution_count": 22,
   "metadata": {
    "ExecuteTime": {
     "end_time": "2019-09-05T15:36:58.671421Z",
     "start_time": "2019-09-05T15:36:58.663334Z"
    }
   },
   "outputs": [],
   "source": [
    "from math import exp\n",
    "def combined_exp_bleu_ngram(ref_list, mt_out, ngram, bp=True ,toLowerCase=True, stripPunctuation=False):\n",
    "#   bleu score for each ngram\n",
    "    bleu_list=[]\n",
    "    for i in range(1,ngram+1):\n",
    "        bleu_list.append(bleu_ngram(ref_list, mt_out, i, toLowerCase=True, stripPunctuation=False))\n",
    "#         print(str(i) + 'gram is: ' + str(bleu_list[-1]))\n",
    "        \n",
    "#   bp penalty\n",
    "    len_mt = len(mt_out)\n",
    "    len_ref_min = min([len(sent.split()) for sent in ref_list])\n",
    "    if len_mt > len_ref_min:\n",
    "        bp = 1\n",
    "    else:\n",
    "        bp = exp(1-len_mt/len_ref_min)\n",
    "        \n",
    "#     print('bp is: ' + str(bp))\n",
    "    \n",
    "    if bp is False:\n",
    "        bp = 1\n",
    "        \n",
    "    return bp * exp(sum(bleu_list) / ngram)\n",
    "\n"
   ]
  },
  {
   "cell_type": "code",
   "execution_count": 23,
   "metadata": {
    "ExecuteTime": {
     "end_time": "2019-09-05T15:36:59.172131Z",
     "start_time": "2019-09-05T15:36:59.165469Z"
    }
   },
   "outputs": [
    {
     "data": {
      "text/plain": [
       "{'I love': 1, 'love you': 1, 'you you': 2, 'you .': 1}"
      ]
     },
     "execution_count": 23,
     "metadata": {},
     "output_type": "execute_result"
    }
   ],
   "source": [
    "parse_sentence_ngram('I love you you you .', ngram=2, toLowerCase=False, stripPunctuation=False)"
   ]
  },
  {
   "cell_type": "code",
   "execution_count": 24,
   "metadata": {
    "ExecuteTime": {
     "end_time": "2019-09-05T15:36:59.422073Z",
     "start_time": "2019-09-05T15:36:59.413413Z"
    }
   },
   "outputs": [
    {
     "name": "stdout",
     "output_type": "stream",
     "text": [
      "1gram is: 0.7142857142857143\n",
      "2gram is: 0.6666666666666666\n",
      "bp is: 1\n"
     ]
    },
    {
     "data": {
      "text/plain": [
       "1.994665147672975"
      ]
     },
     "execution_count": 24,
     "metadata": {},
     "output_type": "execute_result"
    }
   ],
   "source": [
    "combined_exp_bleu_ngram(ref_l, mt_out, 2)"
   ]
  },
  {
   "cell_type": "code",
   "execution_count": null,
   "metadata": {},
   "outputs": [],
   "source": []
  }
 ],
 "metadata": {
  "kernelspec": {
   "display_name": "Python 3",
   "language": "python",
   "name": "python3"
  },
  "language_info": {
   "codemirror_mode": {
    "name": "ipython",
    "version": 3
   },
   "file_extension": ".py",
   "mimetype": "text/x-python",
   "name": "python",
   "nbconvert_exporter": "python",
   "pygments_lexer": "ipython3",
   "version": "3.6.8"
  },
  "varInspector": {
   "cols": {
    "lenName": 16,
    "lenType": 16,
    "lenVar": 40
   },
   "kernels_config": {
    "python": {
     "delete_cmd_postfix": "",
     "delete_cmd_prefix": "del ",
     "library": "var_list.py",
     "varRefreshCmd": "print(var_dic_list())"
    },
    "r": {
     "delete_cmd_postfix": ") ",
     "delete_cmd_prefix": "rm(",
     "library": "var_list.r",
     "varRefreshCmd": "cat(var_dic_list()) "
    }
   },
   "position": {
    "height": "413px",
    "left": "600px",
    "right": "20px",
    "top": "42px",
    "width": "428px"
   },
   "types_to_exclude": [
    "module",
    "function",
    "builtin_function_or_method",
    "instance",
    "_Feature"
   ],
   "window_display": false
  }
 },
 "nbformat": 4,
 "nbformat_minor": 2
}
